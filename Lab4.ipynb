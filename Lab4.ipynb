{
  "nbformat": 4,
  "nbformat_minor": 0,
  "metadata": {
    "colab": {
      "name": "Lab4.ipynb",
      "provenance": [],
      "collapsed_sections": [],
      "authorship_tag": "ABX9TyO/TUkAjpKKkKsz+I5FldkL",
      "include_colab_link": true
    },
    "kernelspec": {
      "name": "ir",
      "display_name": "R"
    },
    "language_info": {
      "name": "R"
    }
  },
  "cells": [
    {
      "cell_type": "markdown",
      "metadata": {
        "id": "view-in-github",
        "colab_type": "text"
      },
      "source": [
        "<a href=\"https://colab.research.google.com/github/denis1krivtsov/AlgoritmStuctData/blob/master/Lab4.ipynb\" target=\"_parent\"><img src=\"https://colab.research.google.com/assets/colab-badge.svg\" alt=\"Open In Colab\"/></a>"
      ]
    },
    {
      "cell_type": "code",
      "metadata": {
        "colab": {
          "base_uri": "https://localhost:8080/"
        },
        "id": "6ZeMFeiZ0Dns",
        "outputId": "1e0d1af0-3750-4af6-b4c9-e823cb22f41c"
      },
      "source": [
        "install.packages(\"keras\")\n",
        "library(keras)"
      ],
      "execution_count": 1,
      "outputs": [
        {
          "output_type": "stream",
          "text": [
            "Installing package into ‘/usr/local/lib/R/site-library’\n",
            "(as ‘lib’ is unspecified)\n",
            "\n"
          ],
          "name": "stderr"
        }
      ]
    },
    {
      "cell_type": "markdown",
      "metadata": {
        "id": "LJ-SpGwh0ww0"
      },
      "source": [
        "Импорт и распределение по массивам обучение и тест"
      ]
    },
    {
      "cell_type": "code",
      "metadata": {
        "colab": {
          "base_uri": "https://localhost:8080/",
          "height": 34
        },
        "id": "6YKJUyio0ODK",
        "outputId": "63c6d42c-421a-4ccd-9456-1597765bd2aa"
      },
      "source": [
        "fashion_mnist <- dataset_fashion_mnist()\n",
        "\n",
        "c(train_images, train_labels) %<-% fashion_mnist$train\n",
        "c(test_images, test_labels) %<-% fashion_mnist$test\n",
        "\n",
        "dim(train_images) #60000 изображений 28*28"
      ],
      "execution_count": 20,
      "outputs": [
        {
          "output_type": "display_data",
          "data": {
            "text/plain": [
              "[1] 60000    28    28"
            ],
            "text/latex": "\\begin{enumerate*}\n\\item 60000\n\\item 28\n\\item 28\n\\end{enumerate*}\n",
            "text/markdown": "1. 60000\n2. 28\n3. 28\n\n\n",
            "text/html": [
              "<style>\n",
              ".list-inline {list-style: none; margin:0; padding: 0}\n",
              ".list-inline>li {display: inline-block}\n",
              ".list-inline>li:not(:last-child)::after {content: \"\\00b7\"; padding: 0 .5ex}\n",
              "</style>\n",
              "<ol class=list-inline><li>60000</li><li>28</li><li>28</li></ol>\n"
            ]
          },
          "metadata": {
            "tags": []
          }
        }
      ]
    },
    {
      "cell_type": "code",
      "metadata": {
        "colab": {
          "base_uri": "https://localhost:8080/",
          "height": 857
        },
        "id": "zm5qzPPj1ZOn",
        "outputId": "3bb4add2-d13f-4e47-b3f5-2b5dc788e64e"
      },
      "source": [
        "image(train_images[1,,]) # Бачимо, що картинка розвернута на бік\n",
        "\n",
        "plotImage = function(im) {\n",
        "  image(t(apply(im, 2, rev)))\n",
        "}\n",
        "plotImage(train_images[1,,])\n",
        "\n",
        "#Мы масшт значения пикселей в диапазоне от 0 до 1\n",
        "train_images = array_reshape(train_images, c(60000, 28, 28, 1))\n",
        "\n",
        "train_images <- train_images / 255\n",
        "\n",
        "test_images  = array_reshape(test_images, c(10000, 28, 28, 1))\n",
        "test_images <- test_images / 255"
      ],
      "execution_count": 21,
      "outputs": [
        {
          "output_type": "display_data",
          "data": {
            "image/png": "[encoded data removed]",
            "text/plain": [
              "plot without title"
            ]
          },
          "metadata": {
            "tags": [],
            "image/png": {
              "width": 420,
              "height": 420
            }
          }
        },
        {
          "output_type": "display_data",
          "data": {
            "image/png": "[encoded data removed]",
            "text/plain": [
              "plot without title"
            ]
          },
          "metadata": {
            "tags": [],
            "image/png": {
              "width": 420,
              "height": 420
            }
          }
        }
      ]
    },
    {
      "cell_type": "markdown",
      "metadata": {
        "id": "zXNtoCRw1y7N"
      },
      "source": [
        "Побудуємо спочатку щільну мережу\n"
      ]
    },
    {
      "cell_type": "code",
      "metadata": {
        "colab": {
          "base_uri": "https://localhost:8080/",
          "height": 34
        },
        "id": "0j0-mzGq2fdt",
        "outputId": "515576d3-dcc7-4e2e-f383-2ba82bc32740"
      },
      "source": [
        "denseModel <- keras_model_sequential() %>%\n",
        "  layer_flatten(input_shape = c(28, 28)) %>%\n",
        "  layer_dense(units = 128, activation = 'relu') %>%\n",
        "  layer_dense(units = 10, activation = 'softmax')\n",
        "\n",
        "denseModel %>% compile(\n",
        "  optimizer = 'adam', \n",
        "  loss = 'sparse_categorical_crossentropy',\n",
        "  metrics = c('accuracy')\n",
        ")\n",
        "\n",
        "denseModel %>% fit(train_images, train_labels, epochs = 5, verbose = 2)\n",
        "#оценка точности\n",
        "score <- denseModel %>% evaluate(test_images, test_labels, verbose = 0)\n",
        "score"
      ],
      "execution_count": 4,
      "outputs": [
        {
          "output_type": "display_data",
          "data": {
            "text/plain": [
              "    loss accuracy \n",
              "0.349516 0.873800 "
            ],
            "text/latex": "\\begin{description*}\n\\item[loss] 0.349516034126282\n\\item[accuracy] 0.873799979686737\n\\end{description*}\n",
            "text/markdown": "loss\n:   0.349516034126282accuracy\n:   0.873799979686737\n\n",
            "text/html": [
              "<style>\n",
              ".dl-inline {width: auto; margin:0; padding: 0}\n",
              ".dl-inline>dt, .dl-inline>dd {float: none; width: auto; display: inline-block}\n",
              ".dl-inline>dt::after {content: \":\\0020\"; padding-right: .5ex}\n",
              ".dl-inline>dt:not(:first-of-type) {padding-left: .5ex}\n",
              "</style><dl class=dl-inline><dt>loss</dt><dd>0.349516034126282</dd><dt>accuracy</dt><dd>0.873799979686737</dd></dl>\n"
            ]
          },
          "metadata": {
            "tags": []
          }
        }
      ]
    },
    {
      "cell_type": "markdown",
      "metadata": {
        "id": "1ThTwVGl3qxI"
      },
      "source": [
        "Спробуємо покращити модель"
      ]
    },
    {
      "cell_type": "code",
      "metadata": {
        "id": "oIQLveOh3p6L",
        "colab": {
          "base_uri": "https://localhost:8080/",
          "height": 34
        },
        "outputId": "f77dcc3d-0393-4762-d140-8fc81a778561"
      },
      "source": [
        "denseModel <- keras_model_sequential() %>%\n",
        "  layer_flatten(input_shape = c(28, 28)) %>%\n",
        "  layer_dense(units = 128, activation = 'relu') %>%\n",
        "  layer_dense(units = 128, activation = 'relu') %>%\n",
        "  layer_dense(units = 10, activation = 'softmax')\n",
        "\n",
        "denseModel %>% compile(\n",
        "  optimizer = 'adam', \n",
        "  loss = 'sparse_categorical_crossentropy',\n",
        "  metrics = c('accuracy')\n",
        ")\n",
        "\n",
        "denseModel %>% fit(train_images, train_labels, epochs = 10, verbose = 2)\n",
        "#оценка точности\n",
        "score <- denseModel %>% evaluate(test_images, test_labels, verbose = 0)\n",
        "score"
      ],
      "execution_count": 6,
      "outputs": [
        {
          "output_type": "display_data",
          "data": {
            "text/plain": [
              "     loss  accuracy \n",
              "0.3265315 0.8857000 "
            ],
            "text/latex": "\\begin{description*}\n\\item[loss] 0.326531499624252\n\\item[accuracy] 0.885699987411499\n\\end{description*}\n",
            "text/markdown": "loss\n:   0.326531499624252accuracy\n:   0.885699987411499\n\n",
            "text/html": [
              "<style>\n",
              ".dl-inline {width: auto; margin:0; padding: 0}\n",
              ".dl-inline>dt, .dl-inline>dd {float: none; width: auto; display: inline-block}\n",
              ".dl-inline>dt::after {content: \":\\0020\"; padding-right: .5ex}\n",
              ".dl-inline>dt:not(:first-of-type) {padding-left: .5ex}\n",
              "</style><dl class=dl-inline><dt>loss</dt><dd>0.326531499624252</dd><dt>accuracy</dt><dd>0.885699987411499</dd></dl>\n"
            ]
          },
          "metadata": {
            "tags": []
          }
        }
      ]
    },
    {
      "cell_type": "markdown",
      "metadata": {
        "id": "75fWRY2YVaVB"
      },
      "source": [
        "Побудуємо тепер згорткову мережу"
      ]
    },
    {
      "cell_type": "code",
      "metadata": {
        "id": "UdRalAfOVMuo"
      },
      "source": [
        "#Скроситаємось functional AP\n",
        "inputs = layer_input(shape=c(28,28,1))\n",
        "z = layer_conv_2d(inputs, filters=32, kernel_size=c(3,3), activation=\"selu\")\n",
        "z = layer_max_pooling_2d(z, pool_size = c(2, 2))\n",
        "z = layer_conv_2d(z, filters = 64, kernel_size = c(3, 3), activation = \"relu\")\n",
        "z = layer_max_pooling_2d(z, pool_size = c(2, 2))\n",
        "z = layer_conv_2d(z, filters = 64, kernel_size = c(3, 3), activation = \"relu\")\n",
        "outputs = z\n",
        "model = keras_model(inputs, outputs)"
      ],
      "execution_count": 11,
      "outputs": []
    },
    {
      "cell_type": "code",
      "metadata": {
        "colab": {
          "base_uri": "https://localhost:8080/",
          "height": 34
        },
        "id": "o5hc6-q9V7TA",
        "outputId": "8ad6bcd6-14bb-436e-a00c-90d0013b8726"
      },
      "source": [
        "## Додамо останній шар для класифікації\n",
        "z = layer_flatten(z)\n",
        "z = layer_dense(z, units = 64, activation = \"selu\")\n",
        "outputs = layer_dense(z, units = 10, activation = \"softmax\")\n",
        "model = keras_model(inputs, outputs)\n",
        "\n",
        "denseModel %>% compile(\n",
        "  optimizer = 'adam', \n",
        "  loss = 'sparse_categorical_crossentropy',\n",
        "  metrics = c('accuracy')\n",
        ")\n",
        "\n",
        "denseModel %>% fit(train_images, train_labels, epochs = 10, batch_size=512, verbose = 2)\n",
        "#оцінка точності\n",
        "score <- denseModel %>% evaluate(test_images, test_labels)\n",
        "score\n",
        "#при увеличении batch_size растут и потери "
      ],
      "execution_count": 13,
      "outputs": [
        {
          "output_type": "display_data",
          "data": {
            "text/plain": [
              "     loss  accuracy \n",
              "0.6838201 0.8995000 "
            ],
            "text/latex": "\\begin{description*}\n\\item[loss] 0.683820128440857\n\\item[accuracy] 0.899500012397766\n\\end{description*}\n",
            "text/markdown": "loss\n:   0.683820128440857accuracy\n:   0.899500012397766\n\n",
            "text/html": [
              "<style>\n",
              ".dl-inline {width: auto; margin:0; padding: 0}\n",
              ".dl-inline>dt, .dl-inline>dd {float: none; width: auto; display: inline-block}\n",
              ".dl-inline>dt::after {content: \":\\0020\"; padding-right: .5ex}\n",
              ".dl-inline>dt:not(:first-of-type) {padding-left: .5ex}\n",
              "</style><dl class=dl-inline><dt>loss</dt><dd>0.683820128440857</dd><dt>accuracy</dt><dd>0.899500012397766</dd></dl>\n"
            ]
          },
          "metadata": {
            "tags": []
          }
        }
      ]
    },
    {
      "cell_type": "code",
      "metadata": {
        "colab": {
          "base_uri": "https://localhost:8080/",
          "height": 34
        },
        "id": "f0OzRb8zaaKu",
        "outputId": "5b12354a-1ea9-4c71-b495-c76aaca87432"
      },
      "source": [
        "model = keras_model_sequential() %>%\n",
        "    layer_conv_2d(filters = 32, kernel_size = c(3, 3), activation = \"selu\", input_shape = c(28, 28, 1)) %>%\n",
        "    layer_max_pooling_2d(pool_size = c(2, 2)) %>%\n",
        "    layer_conv_2d(filters = 64, kernel_size = c(3, 3), activation = \"relu\") %>%\n",
        "    layer_max_pooling_2d(pool_size = c(2, 2)) %>%\n",
        "    layer_conv_2d(filters = 64, kernel_size = c(3, 3), activation = \"relu\") %>%\n",
        "    layer_batch_normalization() %>%\n",
        "    layer_dense(units = 128, activation = \"selu\") %>%\n",
        "    layer_dense(units = 10, activation = \"softmax\")\n",
        "\n",
        "denseModel %>% compile(\n",
        "  optimizer = 'adam', \n",
        "  loss = 'sparse_categorical_crossentropy',\n",
        "  metrics = c('accuracy')\n",
        ")\n",
        "\n",
        "denseModel %>% fit(train_images, train_labels, epochs = 10, batch_size=32)\n",
        "#оцінка точності\n",
        "score <- denseModel %>% evaluate(test_images, test_labels)\n",
        "score"
      ],
      "execution_count": 9,
      "outputs": [
        {
          "output_type": "display_data",
          "data": {
            "text/plain": [
              "     loss  accuracy \n",
              "0.4753913 0.8917000 "
            ],
            "text/latex": "\\begin{description*}\n\\item[loss] 0.475391268730164\n\\item[accuracy] 0.891700029373169\n\\end{description*}\n",
            "text/markdown": "loss\n:   0.475391268730164accuracy\n:   0.891700029373169\n\n",
            "text/html": [
              "<style>\n",
              ".dl-inline {width: auto; margin:0; padding: 0}\n",
              ".dl-inline>dt, .dl-inline>dd {float: none; width: auto; display: inline-block}\n",
              ".dl-inline>dt::after {content: \":\\0020\"; padding-right: .5ex}\n",
              ".dl-inline>dt:not(:first-of-type) {padding-left: .5ex}\n",
              "</style><dl class=dl-inline><dt>loss</dt><dd>0.475391268730164</dd><dt>accuracy</dt><dd>0.891700029373169</dd></dl>\n"
            ]
          },
          "metadata": {
            "tags": []
          }
        }
      ]
    },
    {
      "cell_type": "code",
      "metadata": {
        "colab": {
          "base_uri": "https://localhost:8080/",
          "height": 68
        },
        "id": "UprMbC1rYpOF",
        "outputId": "54aa3440-2d13-4324-e27c-596df828f56b"
      },
      "source": [
        "predictions <- denseModel %>% predict(test_images)\n",
        "predictions[1, ]\n",
        "\n",
        "which.max(predictions[1, ])\n"
      ],
      "execution_count": 28,
      "outputs": [
        {
          "output_type": "display_data",
          "data": {
            "text/plain": [
              " [1] 1.135605e-18 6.477404e-16 1.175196e-14 1.998663e-22 4.779750e-15\n",
              " [6] 1.125903e-11 1.529738e-19 1.033063e-10 2.190527e-21 1.000000e+00"
            ],
            "text/latex": "\\begin{enumerate*}\n\\item 1.13560462331562e-18\n\\item 6.47740441385908e-16\n\\item 1.17519561858054e-14\n\\item 1.99866303817775e-22\n\\item 4.77975017014855e-15\n\\item 1.12590336359686e-11\n\\item 1.5297378062779e-19\n\\item 1.03306342646992e-10\n\\item 2.19052733892135e-21\n\\item 1\n\\end{enumerate*}\n",
            "text/markdown": "1. 1.13560462331562e-18\n2. 6.47740441385908e-16\n3. 1.17519561858054e-14\n4. 1.99866303817775e-22\n5. 4.77975017014855e-15\n6. 1.12590336359686e-11\n7. 1.5297378062779e-19\n8. 1.03306342646992e-10\n9. 2.19052733892135e-21\n10. 1\n\n\n",
            "text/html": [
              "<style>\n",
              ".list-inline {list-style: none; margin:0; padding: 0}\n",
              ".list-inline>li {display: inline-block}\n",
              ".list-inline>li:not(:last-child)::after {content: \"\\00b7\"; padding: 0 .5ex}\n",
              "</style>\n",
              "<ol class=list-inline><li>1.13560462331562e-18</li><li>6.47740441385908e-16</li><li>1.17519561858054e-14</li><li>1.99866303817775e-22</li><li>4.77975017014855e-15</li><li>1.12590336359686e-11</li><li>1.5297378062779e-19</li><li>1.03306342646992e-10</li><li>2.19052733892135e-21</li><li>1</li></ol>\n"
            ]
          },
          "metadata": {
            "tags": []
          }
        },
        {
          "output_type": "display_data",
          "data": {
            "text/plain": [
              "[1] 10"
            ],
            "text/latex": "10",
            "text/markdown": "10",
            "text/html": [
              "10"
            ]
          },
          "metadata": {
            "tags": []
          }
        }
      ]
    }
  ]
}